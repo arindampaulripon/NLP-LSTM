{
 "cells": [
  {
   "cell_type": "code",
   "execution_count": 54,
   "metadata": {
    "collapsed": false
   },
   "outputs": [],
   "source": [
    "from __future__ import print_function\n",
    "import numpy as np\n",
    "import pandas\n",
    "np.random.seed(1337)  # for reproducibility\n",
    "\n",
    "from keras.preprocessing import sequence\n",
    "from keras.models import Sequential\n",
    "from keras.layers import Dense, TimeDistributedDense, Activation, Embedding\n",
    "from keras.layers import LSTM\n",
    "import codecs"
   ]
  },
  {
   "cell_type": "code",
   "execution_count": 78,
   "metadata": {
    "collapsed": false
   },
   "outputs": [
    {
     "name": "stdout",
     "output_type": "stream",
     "text": [
      "     52   5  5.1    91  1       twenty\n",
      "0    52   5    6    78  0        years\n",
      "1    52   5    7     1  0        after\n",
      "2    52   5    8   132  0          the\n",
      "3    52   5    9  2372  0        first\n",
      "4    52   5   10    58  0   astronauts\n",
      "5    52   5   11  3707  0         were\n",
      "6    52   5   12    12  0       chosen\n",
      "7    52   5   13  1384  0         that\n",
      "8    52   5   14  2031  0         NASA\n",
      "9    52   5   15   550  0      finally\n",
      "10   52   5   16   389  0     included\n",
      "11   52   5   17   347  0          six\n",
      "12   52   5   18     0  0        women\n",
      "13   52   5   19     6  0          UNK\n",
      "14   52   5   20    49  0          and\n",
      "15   52   5   21    58  0         they\n",
      "16   52   5   22    89  0         were\n",
      "17   52   5   23  6855  0          all\n",
      "18   52   5   24     0  0   scientists\n",
      "19   52   5   25    63  0          UNK\n",
      "20   52   5   26  3639  0          not\n",
      "21   52   5   27     0  0       pilots\n",
      "22   52   6    0  1011  0          UNK\n",
      "23   52   6    1  2046  0           No\n",
      "24   52   6    2    25  0        woman\n",
      "25   52   6    3  1468  0          has\n",
      "26   52   6    4    42  0     actually\n",
      "27   52   6    5     5  0         been\n",
      "28   52   6    6   295  0           in\n",
      "29   52   6    7     2  0       charge\n",
      "..   ..  ..  ...   ... ..          ...\n",
      "145  52  13    9     0  0    astronaut\n",
      "146  52  13   10   341  0          UNK\n",
      "147  52  13   11   654  0          she\n",
      "148  52  13   12     4  0     followed\n",
      "149  52  13   13  2357  0            a\n",
      "150  52  13   14  7444  0       normal\n",
      "151  52  13   15   276  0  progression\n",
      "152  52  13   16  1384  0       within\n",
      "153  52  13   17     0  0         NASA\n",
      "154  52  14    0  2852  0          UNK\n",
      "155  52  14    1  5909  0       Nobody\n",
      "156  52  14    2   468  0      hurried\n",
      "157  52  14    3    55  0          her\n",
      "158  52  14    4     0  0           up\n",
      "159  52  15    0  1011  0          UNK\n",
      "160  52  15    1    80  0           No\n",
      "161  52  15    2   325  0          one\n",
      "162  52  15    3   468  0         held\n",
      "163  52  15    4   174  0          her\n",
      "164  52  15    5     0  0         back\n",
      "165  52  16    0  2439  0          UNK\n",
      "166  52  16    1  1384  0         Many\n",
      "167  52  16    2  6999  0         NASA\n",
      "168  52  16    3   121  0     watchers\n",
      "169  52  16    4  3326  0          say\n",
      "170  52  16    5  2372  0       female\n",
      "171  52  16    6    32  0   astronauts\n",
      "172  52  16    7   383  0         have\n",
      "173  52  16    8   207  0       become\n",
      "174  52  16    9     2  0         part\n",
      "\n",
      "[175 rows x 6 columns]\n"
     ]
    }
   ],
   "source": [
    "names = ['parano','senno','windx','wvalue','label','word']\n",
    "dataset = pandas.read_csv(\"test.tab\", sep='\\t')\n",
    "array = dataset.values\n",
    "X = array[:,0:4]\n",
    "Y = array[:,4]\n",
    "Z = array[:,5]\n",
    "print(dataset)"
   ]
  },
  {
   "cell_type": "code",
   "execution_count": 82,
   "metadata": {
    "collapsed": false
   },
   "outputs": [],
   "source": [
    "\n",
    "dataset = np.genfromtxt(\"test.tab\", delimiter=\"\\t\")\n",
    "\n",
    "\n",
    "maxlen= 7\n",
    "embedding_dim = 128\n",
    "batch_size = 20\n",
    "epochs = 20\n",
    "nb_word = 50000\n",
    "nb_tag = 2\n",
    "\n",
    "\n",
    "\n"
   ]
  },
  {
   "cell_type": "code",
   "execution_count": 91,
   "metadata": {
    "collapsed": false
   },
   "outputs": [],
   "source": [
    "x_train = dataset[:,0:4]\n",
    "y_train= dataset[:,4]\n",
    "x_test = dataset[:,0:4]\n",
    "y_test = dataset[:,4]\n",
    "X_train = sequence.pad_sequences(x_train, maxlen=maxlen)\n",
    "X_test = sequence.pad_sequences(x_test, maxlen=maxlen)\n",
    "Y_train = np.asarray(y_train, dtype='int32')\n",
    "Y_test = np.asarray(y_test, dtype='int32')"
   ]
  },
  {
   "cell_type": "code",
   "execution_count": 35,
   "metadata": {
    "collapsed": false
   },
   "outputs": [
    {
     "name": "stdout",
     "output_type": "stream",
     "text": [
      "[[          0           0           0 ...,          33           0\n",
      "            0]\n",
      " [          0           0           0 ...,          33           0\n",
      "            1]\n",
      " [          0           0           0 ...,          33           0\n",
      "            2]\n",
      " ..., \n",
      " [          0           0           0 ...,         160           1\n",
      "           22]\n",
      " [          0           0           0 ...,         160           1\n",
      "           23]\n",
      " [          0           0           0 ..., -2147483648 -2147483648\n",
      "  -2147483648]]\n"
     ]
    }
   ],
   "source": [
    "print(X_train)"
   ]
  },
  {
   "cell_type": "code",
   "execution_count": 36,
   "metadata": {
    "collapsed": false
   },
   "outputs": [
    {
     "name": "stdout",
     "output_type": "stream",
     "text": [
      "[          0           0           0 ...,           0           0\n",
      " -2147483648]\n"
     ]
    }
   ],
   "source": [
    "print(Y_train)"
   ]
  },
  {
   "cell_type": "code",
   "execution_count": 70,
   "metadata": {
    "collapsed": false
   },
   "outputs": [
    {
     "name": "stdout",
     "output_type": "stream",
     "text": [
      "Epoch 1/20\n",
      "1014/1014 [==============================] - 26s - loss: 0.2398 - acc: 0.9270    \n",
      "Epoch 2/20\n",
      "1014/1014 [==============================] - 20s - loss: 0.1438 - acc: 0.9665    \n",
      "Epoch 3/20\n",
      "1014/1014 [==============================] - 20s - loss: 0.1291 - acc: 0.9665    \n",
      "Epoch 4/20\n",
      "1014/1014 [==============================] - 19s - loss: 0.1037 - acc: 0.9665    \n",
      "Epoch 5/20\n",
      "1014/1014 [==============================] - 19s - loss: 0.0734 - acc: 0.9675    \n",
      "Epoch 6/20\n",
      "1014/1014 [==============================] - 19s - loss: 0.0524 - acc: 0.9803    \n",
      "Epoch 7/20\n",
      "1014/1014 [==============================] - 19s - loss: 0.0390 - acc: 0.9862    \n",
      "Epoch 8/20\n",
      "1014/1014 [==============================] - 19s - loss: 0.0349 - acc: 0.9901    \n",
      "Epoch 9/20\n",
      "1014/1014 [==============================] - 20s - loss: 0.0301 - acc: 0.9921    \n",
      "Epoch 10/20\n",
      "1014/1014 [==============================] - 19s - loss: 0.0280 - acc: 0.9882    \n",
      "Epoch 11/20\n",
      "1014/1014 [==============================] - 21s - loss: 0.0244 - acc: 0.9931    \n",
      "Epoch 12/20\n",
      "1014/1014 [==============================] - 23s - loss: 0.0249 - acc: 0.9921    \n",
      "Epoch 13/20\n",
      "1014/1014 [==============================] - 22s - loss: 0.0229 - acc: 0.9921    \n",
      "Epoch 14/20\n",
      "1014/1014 [==============================] - 20s - loss: 0.0233 - acc: 0.9931    \n",
      "Epoch 15/20\n",
      "1014/1014 [==============================] - 21s - loss: 0.0208 - acc: 0.9951    \n",
      "Epoch 16/20\n",
      "1014/1014 [==============================] - 20s - loss: 0.0205 - acc: 0.9911    \n",
      "Epoch 17/20\n",
      "1014/1014 [==============================] - 20s - loss: 0.0195 - acc: 0.9951    \n",
      "Epoch 18/20\n",
      "1014/1014 [==============================] - 20s - loss: 0.0186 - acc: 0.9941    \n",
      "Epoch 19/20\n",
      "1014/1014 [==============================] - 20s - loss: 0.0204 - acc: 0.9911    \n",
      "Epoch 20/20\n",
      "1014/1014 [==============================] - 20s - loss: 0.0174 - acc: 0.9941    \n"
     ]
    },
    {
     "data": {
      "text/plain": [
       "<keras.callbacks.History at 0x160ffe7d30>"
      ]
     },
     "execution_count": 70,
     "metadata": {},
     "output_type": "execute_result"
    }
   ],
   "source": [
    "\n",
    "\n",
    "\n",
    "\n",
    "model = Sequential()\n",
    "model.add(Embedding(nb_word, 128))\n",
    "model.add(LSTM(embedding_dim,activation='sigmoid', inner_activation='hard_sigmoid', dropout_W=0.1, dropout_U=0.01))\n",
    "\n",
    "\n",
    "model.add(Dense(1, activation='sigmoid'))\n",
    "\n",
    "model.compile(loss='binary_crossentropy',\n",
    "                  optimizer='adam',\n",
    "                  metrics=['accuracy'])\n",
    "model.fit(X_train, Y_train,\n",
    "                batch_size=batch_size,\n",
    "                nb_epoch=epochs)\n"
   ]
  },
  {
   "cell_type": "code",
   "execution_count": null,
   "metadata": {
    "collapsed": true
   },
   "outputs": [],
   "source": []
  },
  {
   "cell_type": "code",
   "execution_count": 95,
   "metadata": {
    "collapsed": false
   },
   "outputs": [
    {
     "name": "stdout",
     "output_type": "stream",
     "text": [
      "[array([ 0.00060562], dtype=float32), array([ 0.00477009], dtype=float32), array([ 0.00026062], dtype=float32), array([ 0.00024756], dtype=float32), array([ 0.00020381], dtype=float32), array([ 0.00034559], dtype=float32), array([ 0.00020078], dtype=float32), array([ 0.0002053], dtype=float32), array([ 0.00027473], dtype=float32), array([ 0.00041666], dtype=float32), array([ 0.00020812], dtype=float32), array([ 0.00023036], dtype=float32), array([ 0.00025944], dtype=float32), array([ 0.19316973], dtype=float32), array([ 0.00035568], dtype=float32), array([ 0.00081173], dtype=float32), array([ 0.00104597], dtype=float32), array([ 0.00029761], dtype=float32), array([ 0.00024186], dtype=float32), array([ 0.00024608], dtype=float32), array([ 0.0002609], dtype=float32), array([ 0.00024356], dtype=float32), array([ 0.000292], dtype=float32), array([ 0.00139945], dtype=float32), array([ 0.00042359], dtype=float32), array([ 0.00183803], dtype=float32), array([ 0.00060653], dtype=float32), array([ 0.00182579], dtype=float32), array([ 0.00097333], dtype=float32), array([ 0.00473416], dtype=float32), array([ 0.01071864], dtype=float32), array([ 0.0002029], dtype=float32), array([ 0.00021136], dtype=float32), array([ 0.98730087], dtype=float32), array([ 0.00022457], dtype=float32), array([ 0.0002423], dtype=float32), array([ 0.02861518], dtype=float32), array([ 0.00063166], dtype=float32), array([ 0.00018839], dtype=float32), array([ 0.00032299], dtype=float32), array([ 0.00029338], dtype=float32), array([ 0.00029479], dtype=float32), array([ 0.00017169], dtype=float32), array([ 0.00214082], dtype=float32), array([ 0.00018993], dtype=float32), array([ 0.00013607], dtype=float32), array([ 0.00015618], dtype=float32), array([ 0.00017186], dtype=float32), array([ 0.00016551], dtype=float32), array([ 0.00016458], dtype=float32), array([ 0.00022718], dtype=float32), array([ 0.000167], dtype=float32), array([ 0.0001978], dtype=float32), array([ 0.00022802], dtype=float32), array([ 0.00032466], dtype=float32), array([ 0.00027173], dtype=float32), array([ 0.00018903], dtype=float32), array([ 0.00036081], dtype=float32), array([ 0.0002341], dtype=float32), array([ 0.00038556], dtype=float32), array([ 0.00028618], dtype=float32), array([ 0.00029173], dtype=float32), array([ 0.0002195], dtype=float32), array([ 0.0001467], dtype=float32), array([ 0.0018698], dtype=float32), array([ 0.00016629], dtype=float32), array([ 0.00026893], dtype=float32), array([ 0.0001692], dtype=float32), array([ 0.00016626], dtype=float32), array([ 0.00024846], dtype=float32), array([ 0.00028348], dtype=float32), array([ 0.00021672], dtype=float32), array([ 0.00067764], dtype=float32), array([ 0.00034751], dtype=float32), array([ 0.0001635], dtype=float32), array([ 0.00020407], dtype=float32), array([ 0.00070303], dtype=float32), array([ 0.0179052], dtype=float32), array([ 0.00079061], dtype=float32), array([ 0.01570605], dtype=float32), array([ 0.02257488], dtype=float32), array([ 0.00021057], dtype=float32), array([ 0.00032281], dtype=float32), array([ 0.00020222], dtype=float32), array([ 0.00288371], dtype=float32), array([ 0.00018658], dtype=float32), array([ 0.00016526], dtype=float32), array([ 0.00030262], dtype=float32), array([ 0.00018395], dtype=float32), array([ 0.00017885], dtype=float32), array([ 0.00016959], dtype=float32), array([ 0.0001811], dtype=float32), array([ 0.00038981], dtype=float32), array([ 0.00082124], dtype=float32), array([ 0.00081746], dtype=float32), array([ 0.00028491], dtype=float32), array([ 0.02663938], dtype=float32), array([ 0.00021188], dtype=float32), array([ 0.0028392], dtype=float32), array([ 0.0001993], dtype=float32), array([ 0.00018309], dtype=float32), array([ 0.00017014], dtype=float32), array([ 0.00020665], dtype=float32), array([ 0.00016818], dtype=float32), array([ 0.00015693], dtype=float32), array([ 0.00017061], dtype=float32), array([ 0.00021489], dtype=float32), array([ 0.00020912], dtype=float32), array([ 0.00141131], dtype=float32), array([ 0.00044967], dtype=float32), array([ 0.00016266], dtype=float32), array([ 0.00041027], dtype=float32), array([ 0.00017501], dtype=float32), array([ 0.00024163], dtype=float32), array([ 0.00041884], dtype=float32), array([ 0.00071276], dtype=float32), array([ 0.00041275], dtype=float32), array([ 0.00030609], dtype=float32), array([ 0.00031099], dtype=float32), array([ 0.00015808], dtype=float32), array([ 0.00018182], dtype=float32), array([ 0.00015209], dtype=float32), array([ 0.00017107], dtype=float32), array([ 0.98373574], dtype=float32), array([ 0.01406662], dtype=float32), array([ 0.00189191], dtype=float32), array([ 0.00020254], dtype=float32), array([ 0.00528458], dtype=float32), array([ 0.00024512], dtype=float32), array([ 0.0002121], dtype=float32), array([ 0.00014245], dtype=float32), array([ 0.00036981], dtype=float32), array([ 0.00061404], dtype=float32), array([ 0.09322079], dtype=float32), array([ 0.00141298], dtype=float32), array([ 0.0001658], dtype=float32), array([ 0.00023788], dtype=float32), array([ 0.00028115], dtype=float32), array([ 0.00031465], dtype=float32), array([ 0.00017179], dtype=float32), array([ 0.00075412], dtype=float32), array([ 0.00021388], dtype=float32), array([ 0.07027563], dtype=float32), array([ 0.00014853], dtype=float32), array([ 0.00019155], dtype=float32), array([ 0.00015942], dtype=float32), array([ 0.00015454], dtype=float32), array([ 0.00025871], dtype=float32), array([ 0.005708], dtype=float32), array([ 0.00019191], dtype=float32), array([ 0.00018883], dtype=float32), array([ 0.00022426], dtype=float32), array([ 0.00014277], dtype=float32), array([ 0.00015603], dtype=float32), array([ 0.00018543], dtype=float32), array([ 0.0003984], dtype=float32), array([ 0.000318], dtype=float32), array([ 0.00020652], dtype=float32), array([ 0.00033881], dtype=float32), array([ 0.00023152], dtype=float32), array([ 0.00028717], dtype=float32), array([ 0.00083493], dtype=float32), array([ 0.00028663], dtype=float32), array([ 0.0007418], dtype=float32), array([ 0.00035888], dtype=float32), array([ 0.00022602], dtype=float32), array([ 0.00021134], dtype=float32), array([ 0.00051148], dtype=float32), array([ 0.00024246], dtype=float32), array([ 0.00037156], dtype=float32), array([ 0.00032252], dtype=float32), array([ 0.00019637], dtype=float32), array([ 0.00020168], dtype=float32), array([ 0.00019835], dtype=float32), array([ 0.0023083], dtype=float32)]\n"
     ]
    }
   ],
   "source": [
    "Re = []\n",
    "res = model.predict(X)\n",
    "for i in res:\n",
    "    Re.append(i)\n",
    "    \n",
    "    #if(res[i] == 1):\n",
    "        #print(Z[i])\n",
    "        \n",
    "\n",
    "print(Re)\n",
    "\n",
    "    "
   ]
  },
  {
   "cell_type": "code",
   "execution_count": 97,
   "metadata": {
    "collapsed": false
   },
   "outputs": [
    {
     "name": "stdout",
     "output_type": "stream",
     "text": [
      "[ 0.98730087]\n"
     ]
    }
   ],
   "source": [
    "print(max(Re))"
   ]
  },
  {
   "cell_type": "code",
   "execution_count": 100,
   "metadata": {
    "collapsed": false
   },
   "outputs": [
    {
     "name": "stdout",
     "output_type": "stream",
     "text": [
      "UNK\n",
      "of\n",
      "until\n",
      "Just\n",
      "supervising\n",
      "rest\n",
      "of\n",
      "UNK\n",
      "until\n",
      "now\n",
      "in\n",
      "as\n"
     ]
    }
   ],
   "source": [
    "for i in range(1,174):\n",
    "    if(Re[i] > 0.008):\n",
    "        print(Z[i])"
   ]
  },
  {
   "cell_type": "code",
   "execution_count": null,
   "metadata": {
    "collapsed": true
   },
   "outputs": [],
   "source": []
  }
 ],
 "metadata": {
  "anaconda-cloud": {},
  "kernelspec": {
   "display_name": "Python [conda root]",
   "language": "python",
   "name": "conda-root-py"
  },
  "language_info": {
   "codemirror_mode": {
    "name": "ipython",
    "version": 3
   },
   "file_extension": ".py",
   "mimetype": "text/x-python",
   "name": "python",
   "nbconvert_exporter": "python",
   "pygments_lexer": "ipython3",
   "version": "3.5.2"
  }
 },
 "nbformat": 4,
 "nbformat_minor": 1
}
