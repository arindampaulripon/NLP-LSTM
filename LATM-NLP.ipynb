{
 "cells": [
  {
   "cell_type": "code",
   "execution_count": 1,
   "metadata": {
    "collapsed": false
   },
   "outputs": [
    {
     "name": "stderr",
     "output_type": "stream",
     "text": [
      "Using TensorFlow backend.\n"
     ]
    }
   ],
   "source": [
    "from __future__ import print_function\n",
    "import numpy as np\n",
    "import pandas\n",
    "np.random.seed(1337)  # for reproducibility\n",
    "\n",
    "from keras.preprocessing import sequence\n",
    "from keras.models import Sequential\n",
    "from keras.layers import Dense, TimeDistributedDense, Activation, Embedding\n",
    "from keras.layers import LSTM\n",
    "import codecs"
   ]
  },
  {
   "cell_type": "code",
   "execution_count": 2,
   "metadata": {
    "collapsed": false
   },
   "outputs": [
    {
     "name": "stdout",
     "output_type": "stream",
     "text": [
      "      33   0  0.1   728  0.2             On\n",
      "0     33   0    1     1    0            the\n",
      "1     33   0    2    73    0          other\n",
      "2     33   0    3  1665    0           hand\n",
      "3     33   0    4     0    0            UNK\n",
      "4     33   0    5    16    0             it\n",
      "5     33   0    6     7    0             's\n",
      "6     33   0    7  2236    0        turning\n",
      "7     33   0    8   113    0            out\n",
      "8     33   0    9     3    0             to\n",
      "9     33   0   10    28    0             be\n",
      "10    33   0   11   548    0        another\n",
      "11    33   0   12   409    0           very\n",
      "12    33   0   13  2284    0            bad\n",
      "13    33   0   14   240    0      financial\n",
      "14    33   0   15   187    1           week\n",
      "15    33   0   16    10    0            NaN\n",
      "16    33   0   17   572    0            for\n",
      "17    33   0   18     0    0           Asia\n",
      "18    33   1    0    11    0            UNK\n",
      "19    33   1    1   240    0            The\n",
      "20    33   1    2  4605    0      financial\n",
      "21    33   1    3    14    0     assistance\n",
      "22    33   1    4     1    0           from\n",
      "23    33   1    5  1133    0            the\n",
      "24    33   1    6   235    0          World\n",
      "25    33   1    7     6    0           Bank\n",
      "26    33   1    8     1    0            and\n",
      "27    33   1    9   464    0            the\n",
      "28    33   1   10  4327    0  International\n",
      "29    33   1   11  1323    0       Monetary\n",
      "...   ..  ..  ...   ...  ...            ...\n",
      "983   52  16    4  3326    0            say\n",
      "984   52  16    5  2372    0         female\n",
      "985   52  16    6    32    0     astronauts\n",
      "986   52  16    7   383    0           have\n",
      "987   52  16    8   207    0         become\n",
      "988   52  16    9     2    0           part\n",
      "989   52  16   10     1    0             of\n",
      "990   52  16   11   689    0            the\n",
      "991   52  16   12     7    0         agency\n",
      "992   52  16   13  6221    0             's\n",
      "993   52  16   14     0    0        routine\n",
      "994   52  17    0    76    0            UNK\n",
      "995   52  17    1    49    0            But\n",
      "996   52  17    2   249    0           they\n",
      "997   52  17    3    32    0          still\n",
      "998   52  17    4  6258    0           have\n",
      "999   52  17    5    55    0       catching\n",
      "1000  52  17    6     3    0             up\n",
      "1001  52  17    7   150    0             to\n",
      "1002  52  17    8    67    0             do\n",
      "1003  52  17    9   411    0            two\n",
      "1004  52  17   10     6    0        hundred\n",
      "1005  52  17   11  2189    0            and\n",
      "1006  52  17   12   316    0         thirty\n",
      "1007  52  17   13   467    0           four\n",
      "1008  52  17   14    32    0      Americans\n",
      "1009  52  17   15  3829    0           have\n",
      "1010  52  17   16     5    0          flown\n",
      "1011  52  17   17   692    0             in\n",
      "1012  52  17   18     0    0          space\n",
      "\n",
      "[1013 rows x 6 columns]\n"
     ]
    }
   ],
   "source": [
    "names = ['parano','senno','windx','wvalue','label','word']\n",
    "dataset = pandas.read_csv(\"names.tab\", sep='\\t')\n",
    "array = dataset.values\n",
    "X = array[:,0:4]\n",
    "Y = array[:,4]\n",
    "Z = array[:,5]\n",
    "print(dataset)"
   ]
  },
  {
   "cell_type": "code",
   "execution_count": 3,
   "metadata": {
    "collapsed": false
   },
   "outputs": [],
   "source": [
    "\n",
    "dataset = np.genfromtxt(\"names.tab\", delimiter=\"\\t\")\n",
    "\n",
    "\n",
    "maxlen= 7\n",
    "embedding_dim = 64\n",
    "batch_size = 20\n",
    "epochs = 15\n",
    "nb_word = 50000\n",
    "nb_tag = 2\n",
    "\n",
    "\n",
    "\n"
   ]
  },
  {
   "cell_type": "code",
   "execution_count": 4,
   "metadata": {
    "collapsed": false
   },
   "outputs": [],
   "source": [
    "x_train = dataset[:,0:4]\n",
    "y_train= dataset[:,4]\n",
    "x_test = dataset[:,0:4]\n",
    "y_test = dataset[:,4]\n",
    "X_train = sequence.pad_sequences(x_train, maxlen=maxlen)\n",
    "X_test = sequence.pad_sequences(x_test, maxlen=maxlen)\n",
    "Y_train = np.asarray(y_train, dtype='int32')\n",
    "Y_test = np.asarray(y_test, dtype='int32')"
   ]
  },
  {
   "cell_type": "code",
   "execution_count": 5,
   "metadata": {
    "collapsed": false
   },
   "outputs": [
    {
     "name": "stdout",
     "output_type": "stream",
     "text": [
      "[[  0   0   0 ...,   0   0 728]\n",
      " [  0   0   0 ...,   0   1   1]\n",
      " [  0   0   0 ...,   0   2  73]\n",
      " ..., \n",
      " [  0   0   0 ...,  17  16   5]\n",
      " [  0   0   0 ...,  17  17 692]\n",
      " [  0   0   0 ...,  17  18   0]]\n"
     ]
    }
   ],
   "source": [
    "print(X_train)"
   ]
  },
  {
   "cell_type": "code",
   "execution_count": 6,
   "metadata": {
    "collapsed": false
   },
   "outputs": [
    {
     "name": "stdout",
     "output_type": "stream",
     "text": [
      "[0 0 0 ..., 0 0 0]\n"
     ]
    }
   ],
   "source": [
    "print(Y_train)"
   ]
  },
  {
   "cell_type": "code",
   "execution_count": 7,
   "metadata": {
    "collapsed": false
   },
   "outputs": [
    {
     "name": "stdout",
     "output_type": "stream",
     "text": [
      "Epoch 1/15\n",
      "1014/1014 [==============================] - 21s - loss: 0.2300 - acc: 0.9665    \n",
      "Epoch 2/15\n",
      "1014/1014 [==============================] - 17s - loss: 0.1412 - acc: 0.9665    \n",
      "Epoch 3/15\n",
      "1014/1014 [==============================] - 17s - loss: 0.1297 - acc: 0.9665    \n",
      "Epoch 4/15\n",
      "1014/1014 [==============================] - 17s - loss: 0.1108 - acc: 0.9665    \n",
      "Epoch 5/15\n",
      "1014/1014 [==============================] - 17s - loss: 0.0856 - acc: 0.9665    \n",
      "Epoch 6/15\n",
      "1014/1014 [==============================] - 17s - loss: 0.0633 - acc: 0.9704    \n",
      "Epoch 7/15\n",
      "1014/1014 [==============================] - 17s - loss: 0.0471 - acc: 0.9813    \n",
      "Epoch 8/15\n",
      "1014/1014 [==============================] - 17s - loss: 0.0387 - acc: 0.9901    \n",
      "Epoch 9/15\n",
      "1014/1014 [==============================] - 17s - loss: 0.0326 - acc: 0.9911    \n",
      "Epoch 10/15\n",
      "1014/1014 [==============================] - 17s - loss: 0.0306 - acc: 0.9911    \n",
      "Epoch 11/15\n",
      "1014/1014 [==============================] - 18s - loss: 0.0284 - acc: 0.9921    \n",
      "Epoch 12/15\n",
      "1014/1014 [==============================] - 18s - loss: 0.0269 - acc: 0.9921    \n",
      "Epoch 13/15\n",
      "1014/1014 [==============================] - 18s - loss: 0.0272 - acc: 0.9911    \n",
      "Epoch 14/15\n",
      "1014/1014 [==============================] - 18s - loss: 0.0250 - acc: 0.9911    \n",
      "Epoch 15/15\n",
      "1014/1014 [==============================] - 18s - loss: 0.0229 - acc: 0.9941    \n"
     ]
    },
    {
     "data": {
      "text/plain": [
       "<keras.callbacks.History at 0x537460aeb8>"
      ]
     },
     "execution_count": 7,
     "metadata": {},
     "output_type": "execute_result"
    }
   ],
   "source": [
    "\n",
    "\n",
    "\n",
    "\n",
    "model = Sequential()\n",
    "model.add(Embedding(nb_word, 128))\n",
    "model.add(LSTM(embedding_dim,activation='sigmoid', inner_activation='hard_sigmoid', dropout_W=0.1, dropout_U=0.01))\n",
    "\n",
    "\n",
    "model.add(Dense(1, activation='sigmoid'))\n",
    "\n",
    "model.compile(loss='binary_crossentropy',\n",
    "                  optimizer='adam',\n",
    "                  metrics=['accuracy'])\n",
    "model.fit(X_train, Y_train,\n",
    "                batch_size=batch_size,\n",
    "                nb_epoch=epochs)\n"
   ]
  },
  {
   "cell_type": "code",
   "execution_count": null,
   "metadata": {
    "collapsed": true
   },
   "outputs": [],
   "source": []
  },
  {
   "cell_type": "code",
   "execution_count": 8,
   "metadata": {
    "collapsed": false
   },
   "outputs": [
    {
     "name": "stdout",
     "output_type": "stream",
     "text": [
      "[array([ 0.1068282], dtype=float32), array([ 0.00359679], dtype=float32), array([ 0.00244174], dtype=float32), array([ 0.00259666], dtype=float32), array([ 0.0014559], dtype=float32), array([ 0.0015229], dtype=float32), array([ 0.00119848], dtype=float32), array([ 0.00104559], dtype=float32), array([ 0.00545324], dtype=float32), array([ 0.00135095], dtype=float32), array([ 0.00127448], dtype=float32), array([ 0.00141204], dtype=float32), array([ 0.00136309], dtype=float32), array([ 0.00097498], dtype=float32), array([ 0.94048953], dtype=float32), array([ 0.00086206], dtype=float32), array([ 0.00091787], dtype=float32), array([ 0.00118174], dtype=float32), array([ 0.00138003], dtype=float32), array([ 0.00351247], dtype=float32), array([ 0.00484369], dtype=float32), array([ 0.00174108], dtype=float32), array([ 0.30032864], dtype=float32), array([ 0.00351728], dtype=float32), array([ 0.00488614], dtype=float32), array([ 0.04040296], dtype=float32), array([ 0.03248838], dtype=float32), array([ 0.00151034], dtype=float32), array([ 0.00130214], dtype=float32), array([ 0.00169429], dtype=float32), array([ 0.00127984], dtype=float32), array([ 0.00115576], dtype=float32), array([ 0.00149971], dtype=float32), array([ 0.00182206], dtype=float32), array([ 0.00180167], dtype=float32), array([ 0.25396332], dtype=float32), array([ 0.88358331], dtype=float32), array([ 0.8281582], dtype=float32), array([ 0.95886683], dtype=float32), array([ 0.971865], dtype=float32), array([ 0.00416828], dtype=float32), array([ 0.03554907], dtype=float32), array([ 0.00182771], dtype=float32), array([ 0.06719149], dtype=float32), array([ 0.02201089], dtype=float32), array([ 0.00155624], dtype=float32), array([ 0.00211054], dtype=float32), array([ 0.00127259], dtype=float32), array([ 0.00117653], dtype=float32), array([ 0.00300795], dtype=float32), array([ 0.06225298], dtype=float32), array([ 0.00146922], dtype=float32), array([ 0.00181569], dtype=float32), array([ 0.00446963], dtype=float32), array([ 0.00129351], dtype=float32), array([ 0.00330376], dtype=float32), array([ 0.00546518], dtype=float32), array([ 0.00169308], dtype=float32), array([ 0.00543452], dtype=float32), array([ 0.74300689], dtype=float32), array([ 0.00258141], dtype=float32), array([ 0.00118774], dtype=float32), array([ 0.0631764], dtype=float32), array([ 0.00120123], dtype=float32), array([ 0.00114989], dtype=float32), array([ 0.00124632], dtype=float32), array([ 0.00172964], dtype=float32), array([ 0.00402084], dtype=float32), array([ 0.00597156], dtype=float32), array([ 0.00333562], dtype=float32), array([ 0.00727595], dtype=float32), array([ 0.37642121], dtype=float32), array([ 0.73114711], dtype=float32), array([ 0.94629908], dtype=float32), array([ 0.00164804], dtype=float32), array([ 0.00142531], dtype=float32), array([ 0.00155201], dtype=float32), array([ 0.18895328], dtype=float32), array([ 0.00559771], dtype=float32), array([ 0.00257029], dtype=float32), array([ 0.53116339], dtype=float32), array([ 0.87541294], dtype=float32), array([ 0.98490763], dtype=float32), array([ 0.00139759], dtype=float32), array([ 0.00147728], dtype=float32), array([ 0.00165793], dtype=float32), array([ 0.02262777], dtype=float32), array([ 0.00299313], dtype=float32), array([ 0.00206826], dtype=float32), array([ 0.00466877], dtype=float32), array([ 0.3272649], dtype=float32), array([ 0.46591139], dtype=float32), array([ 0.00125594], dtype=float32), array([ 0.00177282], dtype=float32), array([ 0.0012696], dtype=float32), array([ 0.00138942], dtype=float32), array([ 0.00191089], dtype=float32), array([ 0.01383427], dtype=float32), array([ 0.00115833], dtype=float32), array([ 0.00164818], dtype=float32), array([ 0.00124484], dtype=float32), array([ 0.22962502], dtype=float32), array([ 0.0010294], dtype=float32), array([ 0.00094345], dtype=float32), array([ 0.0008086], dtype=float32), array([ 0.03753885], dtype=float32), array([ 0.00108539], dtype=float32), array([ 0.00097643], dtype=float32), array([ 0.00084938], dtype=float32), array([ 0.00091228], dtype=float32), array([ 0.00123548], dtype=float32), array([ 0.00089052], dtype=float32), array([ 0.00079458], dtype=float32), array([ 0.00108373], dtype=float32), array([ 0.0023773], dtype=float32), array([ 0.00124343], dtype=float32), array([ 0.00113215], dtype=float32), array([ 0.00135571], dtype=float32), array([ 0.00200602], dtype=float32), array([ 0.00122727], dtype=float32), array([ 0.00226008], dtype=float32), array([ 0.00165793], dtype=float32), array([ 0.00167874], dtype=float32), array([ 0.00119166], dtype=float32), array([ 0.00129594], dtype=float32), array([ 0.00354015], dtype=float32), array([ 0.0019129], dtype=float32), array([ 0.00189456], dtype=float32), array([ 0.00149179], dtype=float32), array([ 0.07691209], dtype=float32), array([ 0.00098439], dtype=float32), array([ 0.00098133], dtype=float32), array([ 0.00086673], dtype=float32), array([ 0.01054248], dtype=float32), array([ 0.00089257], dtype=float32), array([ 0.00092531], dtype=float32), array([ 0.00097717], dtype=float32), array([ 0.00096407], dtype=float32), array([ 0.00095849], dtype=float32), array([ 0.00077711], dtype=float32), array([ 0.0008043], dtype=float32), array([ 0.0161543], dtype=float32), array([ 0.00192928], dtype=float32), array([ 0.0010101], dtype=float32), array([ 0.12111384], dtype=float32), array([ 0.00292997], dtype=float32), array([ 0.01148234], dtype=float32), array([ 0.0011019], dtype=float32), array([ 0.00096611], dtype=float32), array([ 0.00185596], dtype=float32), array([ 0.01198642], dtype=float32), array([ 0.00134949], dtype=float32), array([ 0.00245718], dtype=float32), array([ 0.00090154], dtype=float32), array([ 0.00137771], dtype=float32), array([ 0.00182458], dtype=float32), array([ 0.00111665], dtype=float32), array([ 0.00197731], dtype=float32), array([ 0.00129647], dtype=float32), array([ 0.00117386], dtype=float32), array([ 0.00081029], dtype=float32), array([ 0.00076475], dtype=float32), array([ 0.00079065], dtype=float32), array([ 0.00103785], dtype=float32), array([ 0.00082354], dtype=float32), array([ 0.0008998], dtype=float32), array([ 0.00081528], dtype=float32), array([ 0.00073406], dtype=float32), array([ 0.00083031], dtype=float32), array([ 0.029928], dtype=float32), array([ 0.00100885], dtype=float32), array([ 0.00109122], dtype=float32), array([ 0.00147186], dtype=float32), array([ 0.00123582], dtype=float32), array([ 0.00242275], dtype=float32), array([ 0.13712269], dtype=float32), array([ 0.00127348], dtype=float32), array([ 0.04985205], dtype=float32), array([ 0.32550648], dtype=float32), array([ 0.00133972], dtype=float32), array([ 0.02068055], dtype=float32), array([ 0.00084443], dtype=float32), array([ 0.00092574], dtype=float32), array([ 0.00095459], dtype=float32), array([ 0.00097956], dtype=float32), array([ 0.02596423], dtype=float32), array([ 0.00109699], dtype=float32), array([ 0.00086959], dtype=float32), array([ 0.00104916], dtype=float32), array([ 0.00140959], dtype=float32), array([ 0.00198895], dtype=float32), array([ 0.0015018], dtype=float32), array([ 0.00157144], dtype=float32), array([ 0.00166583], dtype=float32), array([ 0.00237501], dtype=float32), array([ 0.00533657], dtype=float32), array([ 0.01674089], dtype=float32), array([ 0.00124846], dtype=float32), array([ 0.0008536], dtype=float32), array([ 0.00092245], dtype=float32), array([ 0.00105929], dtype=float32), array([ 0.93524551], dtype=float32), array([ 0.25708804], dtype=float32), array([ 0.00189168], dtype=float32), array([ 0.00152558], dtype=float32), array([ 0.00216755], dtype=float32), array([ 0.00159981], dtype=float32), array([ 0.00133384], dtype=float32), array([ 0.03939628], dtype=float32), array([ 0.02861548], dtype=float32), array([ 0.01827209], dtype=float32), array([ 0.00077938], dtype=float32), array([ 0.00079183], dtype=float32), array([ 0.00098738], dtype=float32), array([ 0.00080228], dtype=float32), array([ 0.00081743], dtype=float32), array([ 0.00092021], dtype=float32), array([ 0.00130673], dtype=float32), array([ 0.0019195], dtype=float32), array([ 0.00098555], dtype=float32), array([ 0.00516464], dtype=float32), array([ 0.00152691], dtype=float32), array([ 0.02343072], dtype=float32), array([ 0.00095711], dtype=float32), array([ 0.00099204], dtype=float32), array([ 0.00082807], dtype=float32), array([ 0.00138369], dtype=float32), array([ 0.00181862], dtype=float32), array([ 0.00226436], dtype=float32), array([ 0.00154449], dtype=float32), array([ 0.00301265], dtype=float32), array([ 0.08829255], dtype=float32), array([ 0.00211549], dtype=float32), array([ 0.00101484], dtype=float32), array([ 0.00099527], dtype=float32), array([ 0.00111616], dtype=float32), array([ 0.00099313], dtype=float32), array([ 0.00105575], dtype=float32), array([ 0.00138781], dtype=float32), array([ 0.0019412], dtype=float32), array([ 0.00104171], dtype=float32), array([ 0.00205083], dtype=float32), array([ 0.00126341], dtype=float32), array([ 0.00128555], dtype=float32), array([ 0.00089051], dtype=float32), array([ 0.00155573], dtype=float32), array([ 0.00301667], dtype=float32), array([ 0.00110267], dtype=float32), array([ 0.00205693], dtype=float32), array([ 0.00120983], dtype=float32), array([ 0.00125101], dtype=float32), array([ 0.00130778], dtype=float32), array([ 0.00230403], dtype=float32), array([ 0.00251967], dtype=float32), array([ 0.00201569], dtype=float32), array([ 0.00262926], dtype=float32), array([ 0.00190793], dtype=float32), array([ 0.29376182], dtype=float32), array([ 0.00096276], dtype=float32), array([ 0.00109404], dtype=float32), array([ 0.00094229], dtype=float32), array([ 0.00093802], dtype=float32), array([ 0.00244873], dtype=float32), array([ 0.93585467], dtype=float32), array([ 0.00098223], dtype=float32), array([ 0.00088918], dtype=float32), array([ 0.00122244], dtype=float32), array([ 0.00094564], dtype=float32), array([ 0.45300663], dtype=float32), array([ 0.00111153], dtype=float32), array([ 0.9862358], dtype=float32), array([ 0.00150378], dtype=float32), array([ 0.00228445], dtype=float32), array([ 0.00285971], dtype=float32), array([ 0.00379674], dtype=float32), array([ 0.00184882], dtype=float32), array([ 0.00257535], dtype=float32), array([ 0.00876839], dtype=float32), array([ 0.00305289], dtype=float32), array([ 0.00134184], dtype=float32), array([ 0.00157436], dtype=float32), array([ 0.00126549], dtype=float32), array([ 0.03054427], dtype=float32), array([ 0.00131652], dtype=float32), array([ 0.00151711], dtype=float32), array([ 0.00142106], dtype=float32), array([ 0.001294], dtype=float32), array([ 0.00153824], dtype=float32), array([ 0.00217633], dtype=float32), array([ 0.00324409], dtype=float32), array([ 0.00297094], dtype=float32), array([ 0.0030854], dtype=float32), array([ 0.0025136], dtype=float32), array([ 0.00210234], dtype=float32), array([ 0.00285323], dtype=float32), array([ 0.52343249], dtype=float32), array([ 0.00261252], dtype=float32), array([ 0.00344402], dtype=float32), array([ 0.00378998], dtype=float32), array([ 0.00396823], dtype=float32), array([ 0.00133114], dtype=float32), array([ 0.00143494], dtype=float32), array([ 0.00119039], dtype=float32), array([ 0.02082226], dtype=float32), array([ 0.00163624], dtype=float32), array([ 0.00208354], dtype=float32), array([ 0.00133502], dtype=float32), array([ 0.00212829], dtype=float32), array([ 0.03539537], dtype=float32), array([ 0.39991847], dtype=float32), array([ 0.97538859], dtype=float32), array([ 0.6617915], dtype=float32), array([ 0.96743011], dtype=float32), array([ 0.0048711], dtype=float32), array([ 0.00170892], dtype=float32), array([ 0.00160422], dtype=float32), array([ 0.00203866], dtype=float32), array([ 0.0014187], dtype=float32), array([ 0.00177537], dtype=float32), array([ 0.00243329], dtype=float32), array([ 0.00131208], dtype=float32), array([ 0.00163943], dtype=float32), array([ 0.17887503], dtype=float32), array([ 0.02496845], dtype=float32), array([ 0.0015976], dtype=float32), array([ 0.00194932], dtype=float32), array([ 0.00392182], dtype=float32), array([ 0.00276432], dtype=float32), array([ 0.00459118], dtype=float32), array([ 0.00682137], dtype=float32), array([ 0.00172018], dtype=float32), array([ 0.00133618], dtype=float32), array([ 0.00153967], dtype=float32), array([ 0.00163193], dtype=float32), array([ 0.00151098], dtype=float32), array([ 0.00311562], dtype=float32), array([ 0.00101774], dtype=float32), array([ 0.00113169], dtype=float32), array([ 0.00185875], dtype=float32), array([ 0.00131966], dtype=float32), array([ 0.00157789], dtype=float32), array([ 0.00171289], dtype=float32), array([ 0.00137511], dtype=float32), array([ 0.00118883], dtype=float32), array([ 0.00194258], dtype=float32), array([ 0.00170838], dtype=float32), array([ 0.00120733], dtype=float32), array([ 0.00161228], dtype=float32), array([ 0.00182676], dtype=float32), array([ 0.00112095], dtype=float32), array([ 0.01237355], dtype=float32), array([ 0.00104052], dtype=float32), array([ 0.000972], dtype=float32), array([ 0.00082972], dtype=float32), array([ 0.00111446], dtype=float32), array([ 0.00141971], dtype=float32), array([ 0.00232101], dtype=float32), array([ 0.00148326], dtype=float32), array([ 0.00132502], dtype=float32), array([ 0.00135681], dtype=float32), array([ 0.00124347], dtype=float32), array([ 0.00086983], dtype=float32), array([ 0.00091], dtype=float32), array([ 0.00108858], dtype=float32), array([ 0.00134018], dtype=float32), array([ 0.00164336], dtype=float32), array([ 0.00127233], dtype=float32), array([ 0.00224171], dtype=float32), array([ 0.00197047], dtype=float32), array([ 0.00109265], dtype=float32), array([ 0.0010815], dtype=float32), array([ 0.00087483], dtype=float32), array([ 0.00086034], dtype=float32), array([ 0.00119372], dtype=float32), array([ 0.00142495], dtype=float32), array([ 0.00202009], dtype=float32), array([ 0.00107506], dtype=float32), array([ 0.00208154], dtype=float32), array([ 0.00136334], dtype=float32), array([ 0.00143979], dtype=float32), array([ 0.00145413], dtype=float32), array([ 0.00174251], dtype=float32), array([ 0.24365412], dtype=float32), array([ 0.00227707], dtype=float32), array([ 0.00392473], dtype=float32), array([ 0.00301674], dtype=float32), array([ 0.00256402], dtype=float32), array([ 0.00119778], dtype=float32), array([ 0.93572396], dtype=float32), array([ 0.96000171], dtype=float32), array([ 0.03868682], dtype=float32), array([ 0.00148902], dtype=float32), array([ 0.00135122], dtype=float32), array([ 0.00108125], dtype=float32), array([ 0.00122539], dtype=float32), array([ 0.00193655], dtype=float32), array([ 0.00109813], dtype=float32), array([ 0.00115287], dtype=float32), array([ 0.00143721], dtype=float32), array([ 0.00198758], dtype=float32), array([ 0.00310258], dtype=float32), array([ 0.00495668], dtype=float32), array([ 0.21277688], dtype=float32), array([ 0.0055845], dtype=float32), array([ 0.0025389], dtype=float32), array([ 0.00510717], dtype=float32), array([ 0.00188327], dtype=float32), array([ 0.0018221], dtype=float32), array([ 0.04942753], dtype=float32), array([ 0.00131885], dtype=float32), array([ 0.00147597], dtype=float32), array([ 0.00149433], dtype=float32), array([ 0.00127555], dtype=float32), array([ 0.00137402], dtype=float32), array([ 0.00274095], dtype=float32), array([ 0.00881397], dtype=float32), array([ 0.00150837], dtype=float32), array([ 0.00160123], dtype=float32), array([ 0.53945291], dtype=float32), array([ 0.96781945], dtype=float32), array([ 0.55041909], dtype=float32), array([ 0.9903397], dtype=float32), array([ 0.00150388], dtype=float32), array([ 0.0010058], dtype=float32), array([ 0.00113988], dtype=float32), array([ 0.00166294], dtype=float32), array([ 0.00115721], dtype=float32), array([ 0.0019812], dtype=float32), array([ 0.00121904], dtype=float32), array([ 0.00124084], dtype=float32), array([ 0.00091251], dtype=float32), array([ 0.00092594], dtype=float32), array([ 0.00080841], dtype=float32), array([ 0.00094591], dtype=float32), array([ 0.00099651], dtype=float32), array([ 0.00096071], dtype=float32), array([ 0.00400507], dtype=float32), array([ 0.00085645], dtype=float32), array([ 0.00103348], dtype=float32), array([ 0.00387655], dtype=float32), array([ 0.00093587], dtype=float32), array([ 0.00099457], dtype=float32), array([ 0.00267743], dtype=float32), array([ 0.00441296], dtype=float32), array([ 0.00732106], dtype=float32), array([ 0.18368644], dtype=float32), array([ 0.00689425], dtype=float32), array([ 0.03520383], dtype=float32), array([ 0.00421724], dtype=float32), array([ 0.00183913], dtype=float32), array([ 0.00211642], dtype=float32), array([ 0.00144659], dtype=float32), array([ 0.00162652], dtype=float32), array([ 0.10706556], dtype=float32), array([ 0.00204177], dtype=float32), array([ 0.001708], dtype=float32), array([ 0.00168514], dtype=float32), array([ 0.00377352], dtype=float32), array([ 0.0015218], dtype=float32), array([ 0.00102641], dtype=float32), array([ 0.00154119], dtype=float32), array([ 0.00228435], dtype=float32), array([ 0.00125153], dtype=float32), array([ 0.00290263], dtype=float32), array([ 0.00163028], dtype=float32), array([ 0.00130576], dtype=float32), array([ 0.00087845], dtype=float32), array([ 0.00096237], dtype=float32), array([ 0.00095433], dtype=float32), array([ 0.00165959], dtype=float32), array([ 0.98550713], dtype=float32), array([ 0.00132096], dtype=float32), array([ 0.13914305], dtype=float32), array([ 0.00233816], dtype=float32), array([ 0.00199912], dtype=float32), array([ 0.00104659], dtype=float32), array([ 0.00102443], dtype=float32), array([ 0.00091676], dtype=float32), array([ 0.0011221], dtype=float32), array([ 0.00100639], dtype=float32), array([ 0.00132965], dtype=float32), array([ 0.00078901], dtype=float32), array([ 0.01161444], dtype=float32), array([ 0.00119495], dtype=float32), array([ 0.01122604], dtype=float32), array([ 0.00083268], dtype=float32), array([ 0.00133186], dtype=float32), array([ 0.00153976], dtype=float32), array([ 0.00110693], dtype=float32), array([ 0.0022642], dtype=float32), array([ 0.00266977], dtype=float32), array([ 0.00087645], dtype=float32), array([ 0.00142866], dtype=float32), array([ 0.00182398], dtype=float32), array([ 0.00522556], dtype=float32), array([ 0.00205052], dtype=float32), array([ 0.16300336], dtype=float32), array([ 0.00309942], dtype=float32), array([ 0.17219856], dtype=float32), array([ 0.00118757], dtype=float32), array([ 0.00140585], dtype=float32), array([ 0.00109591], dtype=float32), array([ 0.00103241], dtype=float32), array([ 0.00114961], dtype=float32), array([ 0.00185383], dtype=float32), array([ 0.00121312], dtype=float32), array([ 0.01582205], dtype=float32), array([ 0.00183012], dtype=float32), array([ 0.00103466], dtype=float32), array([ 0.00151707], dtype=float32), array([ 0.002255], dtype=float32), array([ 0.00464931], dtype=float32), array([ 0.00301477], dtype=float32), array([ 0.00255985], dtype=float32), array([ 0.00272822], dtype=float32), array([ 0.0033191], dtype=float32), array([ 0.00131626], dtype=float32), array([ 0.00156261], dtype=float32), array([ 0.00304902], dtype=float32), array([ 0.0029887], dtype=float32), array([ 0.38113731], dtype=float32), array([ 0.00322914], dtype=float32), array([ 0.01496455], dtype=float32), array([ 0.0185538], dtype=float32), array([ 0.27812493], dtype=float32), array([ 0.00145081], dtype=float32), array([ 0.00112806], dtype=float32), array([ 0.00108009], dtype=float32), array([ 0.03481967], dtype=float32), array([ 0.0009797], dtype=float32), array([ 0.0010044], dtype=float32), array([ 0.00212139], dtype=float32), array([ 0.00117315], dtype=float32), array([ 0.00094896], dtype=float32), array([ 0.0011495], dtype=float32), array([ 0.00203516], dtype=float32), array([ 0.00169617], dtype=float32), array([ 0.00366166], dtype=float32), array([ 0.00380271], dtype=float32), array([ 0.12784146], dtype=float32), array([ 0.00100535], dtype=float32), array([ 0.00104629], dtype=float32), array([ 0.00152694], dtype=float32), array([ 0.00215627], dtype=float32), array([ 0.00334054], dtype=float32), array([ 0.00200203], dtype=float32), array([ 0.00542338], dtype=float32), array([ 0.00304467], dtype=float32), array([ 0.2918556], dtype=float32), array([ 0.00130372], dtype=float32), array([ 0.00130178], dtype=float32), array([ 0.17213602], dtype=float32), array([ 0.00110859], dtype=float32), array([ 0.00151394], dtype=float32), array([ 0.10368234], dtype=float32), array([ 0.00114323], dtype=float32), array([ 0.00116379], dtype=float32), array([ 0.00137562], dtype=float32), array([ 0.34874362], dtype=float32), array([ 0.97874957], dtype=float32), array([ 0.15606922], dtype=float32), array([ 0.47571391], dtype=float32), array([ 0.84982014], dtype=float32), array([ 0.0055615], dtype=float32), array([ 0.00120381], dtype=float32), array([ 0.07452321], dtype=float32), array([ 0.00115274], dtype=float32), array([ 0.00094367], dtype=float32), array([ 0.06631329], dtype=float32), array([ 0.00153179], dtype=float32), array([ 0.0011089], dtype=float32), array([ 0.00123079], dtype=float32), array([ 0.00541063], dtype=float32), array([ 0.00108567], dtype=float32), array([ 0.00137342], dtype=float32), array([ 0.00246554], dtype=float32), array([ 0.00275331], dtype=float32), array([ 0.00191258], dtype=float32), array([ 0.00385399], dtype=float32), array([ 0.26833126], dtype=float32), array([ 0.00394551], dtype=float32), array([ 0.00106586], dtype=float32), array([ 0.00135667], dtype=float32), array([ 0.04212027], dtype=float32), array([ 0.00117106], dtype=float32), array([ 0.00107648], dtype=float32), array([ 0.0012482], dtype=float32), array([ 0.00128344], dtype=float32), array([ 0.00102377], dtype=float32), array([ 0.00187166], dtype=float32), array([ 0.00188261], dtype=float32), array([ 0.00127423], dtype=float32), array([ 0.00136932], dtype=float32), array([ 0.00244566], dtype=float32), array([ 0.00184094], dtype=float32), array([ 0.00088976], dtype=float32), array([ 0.00119695], dtype=float32), array([ 0.00197065], dtype=float32), array([ 0.00107551], dtype=float32), array([ 0.00166619], dtype=float32), array([ 0.0008418], dtype=float32), array([ 0.00150288], dtype=float32), array([ 0.00139749], dtype=float32), array([ 0.00185523], dtype=float32), array([ 0.00157334], dtype=float32), array([ 0.00198882], dtype=float32), array([ 0.02558611], dtype=float32), array([ 0.00105295], dtype=float32), array([ 0.00084228], dtype=float32), array([ 0.00079157], dtype=float32), array([ 0.00076388], dtype=float32), array([ 0.0008395], dtype=float32), array([ 0.0008418], dtype=float32), array([ 0.00107924], dtype=float32), array([ 0.00141045], dtype=float32), array([ 0.00106185], dtype=float32), array([ 0.00225977], dtype=float32), array([ 0.00131651], dtype=float32), array([ 0.00156029], dtype=float32), array([ 0.00077161], dtype=float32), array([ 0.00080901], dtype=float32), array([ 0.00096951], dtype=float32), array([ 0.00076246], dtype=float32), array([ 0.00083419], dtype=float32), array([ 0.00093481], dtype=float32), array([ 0.00145448], dtype=float32), array([ 0.00135492], dtype=float32), array([ 0.00143193], dtype=float32), array([ 0.00102929], dtype=float32), array([ 0.00124272], dtype=float32), array([ 0.11133389], dtype=float32), array([ 0.00117895], dtype=float32), array([ 0.00225742], dtype=float32), array([ 0.03962296], dtype=float32), array([ 0.00203453], dtype=float32), array([ 0.00081594], dtype=float32), array([ 0.0007524], dtype=float32), array([ 0.00077565], dtype=float32), array([ 0.00091561], dtype=float32), array([ 0.00080885], dtype=float32), array([ 0.00095815], dtype=float32), array([ 0.00208494], dtype=float32), array([ 0.00200804], dtype=float32), array([ 0.00157398], dtype=float32), array([ 0.00186197], dtype=float32), array([ 0.00093159], dtype=float32), array([ 0.00117123], dtype=float32), array([ 0.00149535], dtype=float32), array([ 0.00136306], dtype=float32), array([ 0.00127877], dtype=float32), array([ 0.0037063], dtype=float32), array([ 0.05552602], dtype=float32), array([ 0.00079585], dtype=float32), array([ 0.00078705], dtype=float32), array([ 0.01459195], dtype=float32), array([ 0.00085165], dtype=float32), array([ 0.00074015], dtype=float32), array([ 0.00079451], dtype=float32), array([ 0.00073959], dtype=float32), array([ 0.00082106], dtype=float32), array([ 0.00093334], dtype=float32), array([ 0.00073278], dtype=float32), array([ 0.00294103], dtype=float32), array([ 0.01209516], dtype=float32), array([ 0.00131967], dtype=float32), array([ 0.00739989], dtype=float32), array([ 0.09026898], dtype=float32), array([ 0.00241996], dtype=float32), array([ 0.00075767], dtype=float32), array([ 0.01434194], dtype=float32), array([ 0.00075477], dtype=float32), array([ 0.00071325], dtype=float32), array([ 0.02990462], dtype=float32), array([ 0.00097222], dtype=float32), array([ 0.00321964], dtype=float32), array([ 0.00077036], dtype=float32), array([ 0.00355441], dtype=float32), array([ 0.00078222], dtype=float32), array([ 0.00401555], dtype=float32), array([ 0.00097297], dtype=float32), array([ 0.0007529], dtype=float32), array([ 0.00089313], dtype=float32), array([ 0.0008009], dtype=float32), array([ 0.00096674], dtype=float32), array([ 0.0009052], dtype=float32), array([ 0.00085349], dtype=float32), array([ 0.00088064], dtype=float32), array([ 0.00082073], dtype=float32), array([ 0.00099984], dtype=float32), array([ 0.0010655], dtype=float32), array([ 0.00196058], dtype=float32), array([ 0.00101038], dtype=float32), array([ 0.00172356], dtype=float32), array([ 0.00099471], dtype=float32), array([ 0.00136053], dtype=float32), array([ 0.00091615], dtype=float32), array([ 0.00079145], dtype=float32), array([ 0.00083564], dtype=float32), array([ 0.00072719], dtype=float32), array([ 0.00098883], dtype=float32), array([ 0.01107941], dtype=float32), array([ 0.00076443], dtype=float32), array([ 0.00074941], dtype=float32), array([ 0.00100777], dtype=float32), array([ 0.00070131], dtype=float32), array([ 0.02582996], dtype=float32), array([ 0.00091687], dtype=float32), array([ 0.00131077], dtype=float32), array([ 0.00102632], dtype=float32), array([ 0.00144321], dtype=float32), array([ 0.00193039], dtype=float32), array([ 0.00145145], dtype=float32), array([ 0.00200454], dtype=float32), array([ 0.00159527], dtype=float32), array([ 0.00141879], dtype=float32), array([ 0.00089677], dtype=float32), array([ 0.00086904], dtype=float32), array([ 0.00090693], dtype=float32), array([ 0.00087594], dtype=float32), array([ 0.00079454], dtype=float32), array([ 0.00100187], dtype=float32), array([ 0.00249983], dtype=float32), array([ 0.00099563], dtype=float32), array([ 0.00093227], dtype=float32), array([ 0.00161751], dtype=float32), array([ 0.00166615], dtype=float32), array([ 0.00097821], dtype=float32), array([ 0.00097211], dtype=float32), array([ 0.00162548], dtype=float32), array([ 0.00184094], dtype=float32), array([ 0.00145973], dtype=float32), array([ 0.00250468], dtype=float32), array([ 0.00107559], dtype=float32), array([ 0.97969741], dtype=float32), array([ 0.00150919], dtype=float32), array([ 0.00089495], dtype=float32), array([ 0.00269987], dtype=float32), array([ 0.00106565], dtype=float32), array([ 0.05737232], dtype=float32), array([ 0.00072915], dtype=float32), array([ 0.00078757], dtype=float32), array([ 0.0006886], dtype=float32), array([ 0.00076805], dtype=float32), array([ 0.00079681], dtype=float32), array([ 0.03476436], dtype=float32), array([ 0.00079026], dtype=float32), array([ 0.00093202], dtype=float32), array([ 0.00091095], dtype=float32), array([ 0.00071715], dtype=float32), array([ 0.00129424], dtype=float32), array([ 0.00282333], dtype=float32), array([ 0.00450504], dtype=float32), array([ 0.00135686], dtype=float32), array([ 0.00252481], dtype=float32), array([ 0.00153607], dtype=float32), array([ 0.0012061], dtype=float32), array([ 0.00121909], dtype=float32), array([ 0.00107674], dtype=float32), array([ 0.0008605], dtype=float32), array([ 0.0240538], dtype=float32), array([ 0.01311962], dtype=float32), array([ 0.00103831], dtype=float32), array([ 0.00094436], dtype=float32), array([ 0.00096353], dtype=float32), array([ 0.00089814], dtype=float32), array([ 0.03322117], dtype=float32), array([ 0.00085363], dtype=float32), array([ 0.0024459], dtype=float32), array([ 0.97160721], dtype=float32), array([ 0.00125557], dtype=float32), array([ 0.00118777], dtype=float32), array([ 0.0019536], dtype=float32), array([ 0.00203421], dtype=float32), array([ 0.0018178], dtype=float32), array([ 0.24287426], dtype=float32), array([ 0.00213978], dtype=float32), array([ 0.00246498], dtype=float32), array([ 0.0010458], dtype=float32), array([ 0.00109134], dtype=float32), array([ 0.00096335], dtype=float32), array([ 0.0009557], dtype=float32), array([ 0.00100038], dtype=float32), array([ 0.001016], dtype=float32), array([ 0.01436956], dtype=float32), array([ 0.00131766], dtype=float32), array([ 0.00131205], dtype=float32), array([ 0.00097572], dtype=float32), array([ 0.00118845], dtype=float32), array([ 0.00175195], dtype=float32), array([ 0.00107746], dtype=float32), array([ 0.00267898], dtype=float32), array([ 0.00188921], dtype=float32), array([ 0.00146678], dtype=float32), array([ 0.0014374], dtype=float32), array([ 0.00192995], dtype=float32), array([ 0.00222936], dtype=float32), array([ 0.00291825], dtype=float32), array([ 0.00220106], dtype=float32), array([ 0.00874212], dtype=float32), array([ 0.00199564], dtype=float32), array([ 0.00099761], dtype=float32), array([ 0.001009], dtype=float32), array([ 0.00086586], dtype=float32), array([ 0.00089622], dtype=float32), array([ 0.05150866], dtype=float32), array([ 0.00150694], dtype=float32), array([ 0.00109745], dtype=float32), array([ 0.00092609], dtype=float32), array([ 0.00103906], dtype=float32), array([ 0.00245451], dtype=float32), array([ 0.00261416], dtype=float32), array([ 0.00138982], dtype=float32), array([ 0.8269884], dtype=float32), array([ 0.98299122], dtype=float32), array([ 0.00164122], dtype=float32), array([ 0.01481059], dtype=float32), array([ 0.0010204], dtype=float32), array([ 0.00091073], dtype=float32), array([ 0.00085958], dtype=float32), array([ 0.00114605], dtype=float32), array([ 0.00094556], dtype=float32), array([ 0.00087285], dtype=float32), array([ 0.00097332], dtype=float32), array([ 0.0013281], dtype=float32), array([ 0.00085077], dtype=float32), array([ 0.0009181], dtype=float32), array([ 0.00103647], dtype=float32), array([ 0.16406195], dtype=float32), array([ 0.00122453], dtype=float32), array([ 0.00235798], dtype=float32), array([ 0.0024299], dtype=float32), array([ 0.00115429], dtype=float32), array([ 0.00089746], dtype=float32), array([ 0.00088007], dtype=float32), array([ 0.00089722], dtype=float32), array([ 0.00090594], dtype=float32), array([ 0.00101755], dtype=float32), array([ 0.00235892], dtype=float32), array([ 0.00163673], dtype=float32), array([ 0.00201251], dtype=float32), array([ 0.00250402], dtype=float32), array([ 0.00650497], dtype=float32), array([ 0.00277856], dtype=float32), array([ 0.03113857], dtype=float32), array([ 0.04658081], dtype=float32), array([ 0.00089577], dtype=float32), array([ 0.00081375], dtype=float32), array([ 0.96870875], dtype=float32), array([ 0.00094225], dtype=float32), array([ 0.00093315], dtype=float32), array([ 0.04135534], dtype=float32), array([ 0.00163219], dtype=float32), array([ 0.00083248], dtype=float32), array([ 0.0010673], dtype=float32), array([ 0.0010126], dtype=float32), array([ 0.00103552], dtype=float32), array([ 0.00073178], dtype=float32), array([ 0.00852077], dtype=float32), array([ 0.00069665], dtype=float32), array([ 0.00066266], dtype=float32), array([ 0.00067363], dtype=float32), array([ 0.00071936], dtype=float32), array([ 0.00068758], dtype=float32), array([ 0.00071285], dtype=float32), array([ 0.00086676], dtype=float32), array([ 0.0007393], dtype=float32), array([ 0.00088168], dtype=float32), array([ 0.00078982], dtype=float32), array([ 0.00109856], dtype=float32), array([ 0.00085511], dtype=float32), array([ 0.00085901], dtype=float32), array([ 0.00137964], dtype=float32), array([ 0.00086435], dtype=float32), array([ 0.00126261], dtype=float32), array([ 0.00101633], dtype=float32), array([ 0.00095739], dtype=float32), array([ 0.00076261], dtype=float32), array([ 0.00067582], dtype=float32), array([ 0.0080747], dtype=float32), array([ 0.00071105], dtype=float32), array([ 0.00080785], dtype=float32), array([ 0.00072876], dtype=float32), array([ 0.00069296], dtype=float32), array([ 0.00092273], dtype=float32), array([ 0.00100217], dtype=float32), array([ 0.00101489], dtype=float32), array([ 0.00107844], dtype=float32), array([ 0.00118523], dtype=float32), array([ 0.00070701], dtype=float32), array([ 0.00083863], dtype=float32), array([ 0.00197518], dtype=float32), array([ 0.02330054], dtype=float32), array([ 0.00232505], dtype=float32), array([ 0.05431666], dtype=float32), array([ 0.03931466], dtype=float32), array([ 0.00073468], dtype=float32), array([ 0.00125482], dtype=float32), array([ 0.00075202], dtype=float32), array([ 0.01029413], dtype=float32), array([ 0.00070198], dtype=float32), array([ 0.00069946], dtype=float32), array([ 0.00118384], dtype=float32), array([ 0.00066384], dtype=float32), array([ 0.00071809], dtype=float32), array([ 0.00073365], dtype=float32), array([ 0.00083141], dtype=float32), array([ 0.00130827], dtype=float32), array([ 0.00255631], dtype=float32), array([ 0.00150678], dtype=float32), array([ 0.00100558], dtype=float32), array([ 0.04539941], dtype=float32), array([ 0.00082281], dtype=float32), array([ 0.01951261], dtype=float32), array([ 0.00090264], dtype=float32), array([ 0.00068032], dtype=float32), array([ 0.00071024], dtype=float32), array([ 0.00079761], dtype=float32), array([ 0.00071037], dtype=float32), array([ 0.00067505], dtype=float32), array([ 0.00072787], dtype=float32), array([ 0.00078173], dtype=float32), array([ 0.00075656], dtype=float32), array([ 0.00325852], dtype=float32), array([ 0.00152889], dtype=float32), array([ 0.00074772], dtype=float32), array([ 0.00120101], dtype=float32), array([ 0.00074192], dtype=float32), array([ 0.00098843], dtype=float32), array([ 0.00142253], dtype=float32), array([ 0.00150827], dtype=float32), array([ 0.00136753], dtype=float32), array([ 0.00113052], dtype=float32), array([ 0.00112041], dtype=float32), array([ 0.00071821], dtype=float32), array([ 0.00074111], dtype=float32), array([ 0.0006903], dtype=float32), array([ 0.00069074], dtype=float32), array([ 0.96356601], dtype=float32), array([ 0.0297321], dtype=float32), array([ 0.00795904], dtype=float32), array([ 0.00082005], dtype=float32), array([ 0.03321427], dtype=float32), array([ 0.00083843], dtype=float32), array([ 0.00075074], dtype=float32), array([ 0.00070338], dtype=float32), array([ 0.00134228], dtype=float32), array([ 0.00226738], dtype=float32), array([ 0.08580659], dtype=float32), array([ 0.00312309], dtype=float32), array([ 0.00070842], dtype=float32), array([ 0.00086902], dtype=float32), array([ 0.00090373], dtype=float32), array([ 0.00117029], dtype=float32), array([ 0.00075899], dtype=float32), array([ 0.00179285], dtype=float32), array([ 0.00085526], dtype=float32), array([ 0.12436482], dtype=float32), array([ 0.00067668], dtype=float32), array([ 0.000943], dtype=float32), array([ 0.00067458], dtype=float32), array([ 0.00065403], dtype=float32), array([ 0.00072279], dtype=float32), array([ 0.02756551], dtype=float32), array([ 0.00071769], dtype=float32), array([ 0.00073354], dtype=float32), array([ 0.00081209], dtype=float32), array([ 0.00066037], dtype=float32), array([ 0.00066042], dtype=float32), array([ 0.00072919], dtype=float32), array([ 0.00120254], dtype=float32), array([ 0.00115864], dtype=float32), array([ 0.00078755], dtype=float32), array([ 0.00114928], dtype=float32), array([ 0.00082431], dtype=float32), array([ 0.00106432], dtype=float32), array([ 0.00204021], dtype=float32), array([ 0.00096722], dtype=float32), array([ 0.00207079], dtype=float32), array([ 0.00118181], dtype=float32), array([ 0.0008424], dtype=float32), array([ 0.00090546], dtype=float32), array([ 0.00163212], dtype=float32), array([ 0.00081979], dtype=float32), array([ 0.00134938], dtype=float32), array([ 0.00097639], dtype=float32), array([ 0.00082268], dtype=float32), array([ 0.00078929], dtype=float32), array([ 0.00084915], dtype=float32), array([ 0.01661549], dtype=float32), array([ 0.00659309], dtype=float32), array([ 0.00069881], dtype=float32), array([ 0.00066201], dtype=float32), array([ 0.00071639], dtype=float32), array([ 0.00066297], dtype=float32), array([ 0.00069642], dtype=float32), array([ 0.00085243], dtype=float32), array([ 0.00195838], dtype=float32), array([ 0.00076098], dtype=float32), array([ 0.00156135], dtype=float32), array([ 0.00088426], dtype=float32), array([ 0.01292851], dtype=float32), array([ 0.00071585], dtype=float32), array([ 0.0006689], dtype=float32), array([ 0.00064463], dtype=float32), array([ 0.01020133], dtype=float32), array([ 0.00067588], dtype=float32), array([ 0.39614815], dtype=float32), array([ 0.00084179], dtype=float32), array([ 0.00063655], dtype=float32), array([ 0.00094829], dtype=float32), array([ 0.00116352], dtype=float32), array([ 0.00064525], dtype=float32), array([ 0.00070133], dtype=float32)]\n"
     ]
    }
   ],
   "source": [
    "Re = []\n",
    "res = model.predict(X)\n",
    "for i in res:\n",
    "    Re.append(i)\n",
    "    \n",
    "    #if(res[i] == 1):\n",
    "        #print(Z[i])\n",
    "        \n",
    "\n",
    "print(Re)\n",
    "\n",
    "    "
   ]
  },
  {
   "cell_type": "code",
   "execution_count": 10,
   "metadata": {
    "collapsed": false
   },
   "outputs": [
    {
     "name": "stdout",
     "output_type": "stream",
     "text": [
      "[ 0.9903397]\n",
      "[ 0.00063655]\n"
     ]
    }
   ],
   "source": [
    "print(max(Re))\n",
    "print(min(Re))"
   ]
  },
  {
   "cell_type": "code",
   "execution_count": 16,
   "metadata": {
    "collapsed": false
   },
   "outputs": [
    {
     "name": "stdout",
     "output_type": "stream",
     "text": [
      "week\n",
      "from\n",
      "In\n",
      "the\n",
      "last\n",
      "twenty\n",
      "four\n",
      "lost\n",
      "hit\n",
      "a\n",
      "five\n",
      "In\n",
      "UNK\n",
      "a\n",
      "four\n",
      "UNK\n",
      "a\n",
      "for\n",
      "was\n",
      "sold\n",
      "to\n",
      "UNK\n",
      "Now\n",
      "worth\n",
      "in\n",
      "only\n",
      "that\n",
      "all\n",
      "in\n",
      "the\n",
      "past\n",
      "three\n",
      "soared\n",
      "at\n",
      "after\n",
      "ten\n",
      "that\n",
      "for\n",
      "a\n",
      "couple\n",
      "of\n",
      "hold\n",
      "much\n",
      "Washington\n",
      "UNK\n",
      "new\n",
      "why\n",
      "hint\n",
      "the\n",
      "one\n",
      "climb\n",
      "one\n",
      "leavin-\n",
      "But\n",
      "a\n",
      "minute\n",
      "and\n",
      "a\n",
      "saw\n",
      "UNK\n",
      "Finally\n",
      "in\n",
      "been\n",
      "until\n",
      "twenty\n",
      "UNK\n",
      "until\n",
      "until\n",
      "as\n"
     ]
    }
   ],
   "source": [
    "for i in range(1,1000):\n",
    "    if(Re[i] > 0.10):\n",
    "        print(Z[i])"
   ]
  },
  {
   "cell_type": "code",
   "execution_count": null,
   "metadata": {
    "collapsed": true
   },
   "outputs": [],
   "source": []
  }
 ],
 "metadata": {
  "anaconda-cloud": {},
  "kernelspec": {
   "display_name": "Python [conda root]",
   "language": "python",
   "name": "conda-root-py"
  },
  "language_info": {
   "codemirror_mode": {
    "name": "ipython",
    "version": 3
   },
   "file_extension": ".py",
   "mimetype": "text/x-python",
   "name": "python",
   "nbconvert_exporter": "python",
   "pygments_lexer": "ipython3",
   "version": "3.5.2"
  }
 },
 "nbformat": 4,
 "nbformat_minor": 1
}
